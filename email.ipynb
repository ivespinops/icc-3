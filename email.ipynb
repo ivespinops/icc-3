{
 "cells": [
  {
   "cell_type": "code",
   "execution_count": 1,
   "id": "eee80ab3-527c-4bd2-9722-8ae787760e12",
   "metadata": {},
   "outputs": [],
   "source": [
    "import smtplib\n",
    "from email.message import EmailMessage\n",
    "from pathlib import Path\n",
    "\n",
    "GMAIL_USER = \"ivan.espinoza.m@gmail.com\"\n",
    "APP_PASSWORD = \"qgmo myef hjwo ytzp\"  # tu App Password (16 chars, sin espacios si quieres)\n",
    "\n",
    "def enviar_excel_gmail(\n",
    "    archivo_xlsx: str,\n",
    "    para: list[str],\n",
    "    asunto: str = \"Reporte\",\n",
    "    cuerpo: str = \"Te adjunto el Excel.\",\n",
    "    cc: list[str] | None = None,\n",
    "    bcc: list[str] | None = None,\n",
    "):\n",
    "    msg = EmailMessage()\n",
    "    msg[\"From\"] = GMAIL_USER\n",
    "    msg[\"To\"] = \", \".join(para)\n",
    "    if cc:\n",
    "        msg[\"Cc\"] = \", \".join(cc)\n",
    "    msg[\"Subject\"] = asunto\n",
    "    msg.set_content(cuerpo)\n",
    "\n",
    "    # Adjuntar el Excel\n",
    "    ruta = Path(archivo_xlsx)\n",
    "    with ruta.open(\"rb\") as f:\n",
    "        data = f.read()\n",
    "    msg.add_attachment(\n",
    "        data,\n",
    "        maintype=\"application\",\n",
    "        subtype=\"vnd.openxmlformats-officedocument.spreadsheetml.sheet\",\n",
    "        filename=ruta.name,\n",
    "    )\n",
    "\n",
    "    # Enviar\n",
    "    with smtplib.SMTP(\"smtp.gmail.com\", 587) as smtp:\n",
    "        smtp.ehlo()\n",
    "        smtp.starttls()\n",
    "        smtp.login(GMAIL_USER, APP_PASSWORD)\n",
    "        smtp.send_message(msg, to_addrs=para + (cc or []) + (bcc or []))\n",
    "\n",
    "if __name__ == \"__main__\":\n",
    "    enviar_excel_gmail(\n",
    "        archivo_xlsx=\"facturas.csv\",\n",
    "        para=[\"ivespinops@gmail.com\"],\n",
    "        asunto=\"Planilla semanal\",\n",
    "        cuerpo=\"Hola, adjunto planilla.\\nSaludos!\",\n",
    "    )\n"
   ]
  },
  {
   "cell_type": "code",
   "execution_count": null,
   "id": "7cbaeffd-096e-493f-bc68-625e870a005f",
   "metadata": {},
   "outputs": [],
   "source": []
  }
 ],
 "metadata": {
  "kernelspec": {
   "display_name": "Python 3 (ipykernel)",
   "language": "python",
   "name": "python3"
  },
  "language_info": {
   "codemirror_mode": {
    "name": "ipython",
    "version": 3
   },
   "file_extension": ".py",
   "mimetype": "text/x-python",
   "name": "python",
   "nbconvert_exporter": "python",
   "pygments_lexer": "ipython3",
   "version": "3.11.0"
  }
 },
 "nbformat": 4,
 "nbformat_minor": 5
}
